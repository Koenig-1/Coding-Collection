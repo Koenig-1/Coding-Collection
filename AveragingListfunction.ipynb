{
  "nbformat": 4,
  "nbformat_minor": 0,
  "metadata": {
    "colab": {
      "provenance": [],
      "authorship_tag": "ABX9TyO6xT29cEMFmTg2NuML/8kd",
      "include_colab_link": true
    },
    "kernelspec": {
      "name": "python3",
      "display_name": "Python 3"
    },
    "language_info": {
      "name": "python"
    }
  },
  "cells": [
    {
      "cell_type": "markdown",
      "metadata": {
        "id": "view-in-github",
        "colab_type": "text"
      },
      "source": [
        "<a href=\"https://colab.research.google.com/github/Koenig-1/Coding-Collection/blob/main/AveragingListfunction.ipynb\" target=\"_parent\"><img src=\"https://colab.research.google.com/assets/colab-badge.svg\" alt=\"Open In Colab\"/></a>"
      ]
    },
    {
      "cell_type": "code",
      "execution_count": null,
      "metadata": {
        "id": "ty9hcGJNj9G2"
      },
      "outputs": [],
      "source": [
        "def avg(alist):\n",
        "  try:\n",
        "    return sum(alist)/len(alist)\n",
        "  except:\n",
        "    print('refer to instructions above')\n",
        "def get_values():\n",
        "  try:\n",
        "    user_input = input(\"Enter a list of values, separated by commas: \")\n",
        "    values = [float(value) for value in user_input.split(\",\")]\n",
        "    return values\n",
        "  except ValueError:\n",
        "    print('please enter values that are seperated by commas')\n",
        "  except ZeroDivisionError:\n",
        "    print('please enter at least one value into list')\n",
        "    return []\n",
        "  except:\n",
        "    print('unknown error')\n",
        "avg(get_values())"
      ]
    }
  ]
}