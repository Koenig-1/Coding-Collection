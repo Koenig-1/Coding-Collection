{
  "nbformat": 4,
  "nbformat_minor": 0,
  "metadata": {
    "colab": {
      "provenance": [],
      "authorship_tag": "ABX9TyP2etOPRDXXvWPaTwX+I6dz",
      "include_colab_link": true
    },
    "kernelspec": {
      "name": "python3",
      "display_name": "Python 3"
    },
    "language_info": {
      "name": "python"
    }
  },
  "cells": [
    {
      "cell_type": "markdown",
      "metadata": {
        "id": "view-in-github",
        "colab_type": "text"
      },
      "source": [
        "<a href=\"https://colab.research.google.com/github/Koenig-1/Coding-Collection/blob/main/Calculator.ipynb\" target=\"_parent\"><img src=\"https://colab.research.google.com/assets/colab-badge.svg\" alt=\"Open In Colab\"/></a>"
      ]
    },
    {
      "cell_type": "code",
      "execution_count": null,
      "metadata": {
        "id": "Y1SnZo_3-PTm"
      },
      "outputs": [],
      "source": [
        "while True:\n",
        "  Inputfunction=input(\"function:\")\n",
        "\n",
        "  if Inputfunction==\"break\":\n",
        "    break\n",
        "  x=float(input(\"x:\"))\n",
        "  y=float(input(\"y:\"))\n",
        "  if Inputfunction==\"multiply\":\n",
        "    z=x * y\n",
        "  elif Inputfunction==\"add\":\n",
        "    z=x + y\n",
        "  elif Inputfunction==\"subtract\":\n",
        "    z=x - y\n",
        "  elif Inputfunction==\"divide\":\n",
        "    z=x / y\n",
        "  elif Inputfunction==\"power\":\n",
        "    z=x ** y\n",
        "  elif Inputfunction==\"floor divide\":\n",
        "    z=x // y\n",
        "  elif Inputfunction==\"remainder division\":\n",
        "    z=x % y\n",
        "  else:\n",
        "    print(\"invalid operator\")\n",
        "    continue\n",
        "  print(z)"
      ]
    }
  ]
}