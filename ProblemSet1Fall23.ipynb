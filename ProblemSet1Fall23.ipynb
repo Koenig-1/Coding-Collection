{
  "nbformat": 4,
  "nbformat_minor": 0,
  "metadata": {
    "colab": {
      "provenance": [],
      "include_colab_link": true
    },
    "kernelspec": {
      "name": "python3",
      "display_name": "Python 3"
    },
    "language_info": {
      "name": "python"
    }
  },
  "cells": [
    {
      "cell_type": "markdown",
      "metadata": {
        "id": "view-in-github",
        "colab_type": "text"
      },
      "source": [
        "<a href=\"https://colab.research.google.com/github/Koenig-1/Coding-Collection/blob/main/ProblemSet1Fall23.ipynb\" target=\"_parent\"><img src=\"https://colab.research.google.com/assets/colab-badge.svg\" alt=\"Open In Colab\"/></a>"
      ]
    },
    {
      "cell_type": "markdown",
      "source": [
        "# Problem Set 2"
      ],
      "metadata": {
        "id": "mqKVIuY-mxNU"
      }
    },
    {
      "cell_type": "markdown",
      "source": [
        "## Assignment 1: Quality Control (7 points)\n",
        "\n",
        "A quality control manager would like to find the average weight of a list of weights. Prior experience indicates that the first two measures are atypical, and the practice is to exclude these from the average calculation.\n",
        "\n",
        "Write a program that calculates the average of a list of numbers that given as inputs from the user, excluding the first two values.\n",
        "\n",
        "For your program, you must define and use the following functions:\n",
        "- `getValues(n)`: Prompt the user for `n` values, returns the list\n",
        "- `calcAverage(alist)`: Calculates the average from the list"
      ],
      "metadata": {
        "id": "-RSYW1jVm08n"
      }
    },
    {
      "cell_type": "code",
      "execution_count": null,
      "metadata": {
        "id": "AqbgJkgNmvQw"
      },
      "outputs": [],
      "source": [
        "def getValues(n):\n",
        "  weights = []\n",
        "  if n < 3:\n",
        "    print('Not enough weights')\n",
        "    return None\n",
        "  else:\n",
        "    for i in range(n):\n",
        "      userinput = float(input('enter value:'))\n",
        "      weights.append(userinput)\n",
        "    return weights[2:]\n",
        "def calcAverage(alist):\n",
        "  print(sum(alist) / len(alist))"
      ]
    },
    {
      "cell_type": "code",
      "source": [
        "n_weights = int(input('enter number of weights to be added to the list: '))\n",
        "calcAverage(getValues(n_weights))"
      ],
      "metadata": {
        "colab": {
          "base_uri": "https://localhost:8080/"
        },
        "id": "ETVAL9fUkjNu",
        "outputId": "ee2d4250-c5dc-436a-d8a7-bf685f936d6d"
      },
      "execution_count": null,
      "outputs": [
        {
          "output_type": "stream",
          "name": "stdout",
          "text": [
            "enter number of weights to be added to the list: 4\n",
            "enter value:1\n",
            "enter value:5\n",
            "enter value:3\n",
            "enter value:9\n",
            "6.0\n"
          ]
        }
      ]
    },
    {
      "cell_type": "markdown",
      "source": [
        "## Assignment 2: Country Statistics Lookup-Multiple Measures (6 points)\n",
        "\n",
        "Assume a program begins with the statement:\n",
        "\n",
        "```python\n",
        "allData = { # dictionary of values for countries\n",
        "    'US': {'pop':325.7, 'gdp': 19.39, 'ccy': 'USD', 'fx':  1.0},\n",
        "    'CA': {'pop': 36.5, 'gdp':  1.65, 'ccy': 'CAD', 'fx':  1.35},\n",
        "    'MX': {'pop':129.2, 'gdp':  1.15, 'ccy': 'MXN', 'fx': 19.68}\n",
        "    }\n",
        "```\n",
        "\n",
        "Write subsequent statements that (in a loop) prompt the user for a country code (`US`, `CA`, or `MX`), then prompt for a measure name (`pop`, `gdp`, `ccy`, or `fx`), then look up in the above dictionary for the corresponding value, and display it.\n",
        "\n",
        "Example run:\n",
        "```\n",
        "Please enter a country code: CA\n",
        "Please enter a statistic: pop\n",
        "CA pop = 36.5\n",
        "```\n",
        "\n",
        "Your program should handle the cases where a user-entered country code or measure name is not found."
      ],
      "metadata": {
        "id": "QFO0Kzx8ncnv"
      }
    },
    {
      "cell_type": "code",
      "source": [
        "allData = { # dictionary of values for countries\n",
        "    'US': {'pop':325.7, 'gdp': 19.39, 'ccy': 'USD', 'fx':  1.0},\n",
        "    'CA': {'pop': 36.5, 'gdp':  1.65, 'ccy': 'CAD', 'fx':  1.35},\n",
        "    'MX': {'pop':129.2, 'gdp':  1.15, 'ccy': 'MXN', 'fx': 19.68}\n",
        "    }\n",
        "LongStat = {'pop': 'Population(millions)', 'gdp': 'GDP(in trillions USD)', 'ccy': 'Currency', 'fx': 'fx'}\n",
        "while True:\n",
        "  x = input('enter a country code(enter \\\"end\" to finish):')\n",
        "  if x == 'end':\n",
        "    break\n",
        "  elif x not in allData:\n",
        "    print('country code not found')\n",
        "  else:\n",
        "     y = input('enter statistic here: ')\n",
        "     if y not in allData[x]:\n",
        "        print('statistic not found')\n",
        "     else:\n",
        "      print(f'{x} {LongStat[y]}: {allData[x][y]}')"
      ],
      "metadata": {
        "id": "NZFjRINKowEW",
        "colab": {
          "base_uri": "https://localhost:8080/"
        },
        "outputId": "2a68ccb0-2120-40ea-95a4-74fe7e4130c1"
      },
      "execution_count": 14,
      "outputs": [
        {
          "name": "stdout",
          "output_type": "stream",
          "text": [
            "enter a country code(enter \"end\" to finish):CA\n",
            "enter statistic here: pop\n",
            "CA Population(millions): 36.5\n",
            "enter a country code(enter \"end\" to finish):end\n"
          ]
        }
      ]
    },
    {
      "cell_type": "markdown",
      "source": [
        "## Assignment 3: Parking Garage (6 points)\n",
        "\n",
        "Write a program to compute the fee for parking in a garage for a number of hours.\n",
        "\n",
        "The program should:\n",
        "- Prompt the user for how many hours parked\n",
        "- Calculate the fee based on the following rules:\n",
        "  - $2.50/hour\n",
        "\n",
        "  - minimum fee is $6.00\n",
        "\n",
        "  - maximum fee is $20.00\n",
        "- Print the result\n",
        "\n",
        "For your program, define and use the following two functions:\n",
        "```python\n",
        "# use input() to prompt for the # of hours parked, return this value\n",
        "def getParkingHours()\n",
        "\n",
        "# takes as input hours (a number), returns the parking fee\n",
        "def calcParkingFee()\n",
        "```"
      ],
      "metadata": {
        "id": "GjaUFrnfpKFf"
      }
    },
    {
      "cell_type": "code",
      "source": [
        "def getParkingHours():\n",
        "  y = float(input('Desired Hours? '))\n",
        "  return y\n",
        "def calcParkingFee():\n",
        "  x = getParkingHours() * 2.5\n",
        "  if x >= 20.00:\n",
        "    print('$20.00')\n",
        "  if x <= 6.00:\n",
        "    print('$6.00')\n",
        "  else:\n",
        "    print(f'${x}')\n",
        "calcParkingFee()"
      ],
      "metadata": {
        "id": "5ha4O3V5pwNN",
        "colab": {
          "base_uri": "https://localhost:8080/"
        },
        "outputId": "9bcffd36-9e7b-46fb-f0eb-a8d1b58d36ae"
      },
      "execution_count": null,
      "outputs": [
        {
          "output_type": "stream",
          "name": "stdout",
          "text": [
            "Desired Hours? 3\n",
            "$7.5\n"
          ]
        }
      ]
    },
    {
      "cell_type": "markdown",
      "source": [
        "## Assignment 4: Tuition (6 points)\n",
        "\n",
        "A college charges tuition according to the following:\n",
        "- 12 or more credits: $20,000/semester\n",
        "\n",
        "- 1-11 credits: $1,200 + $1,700 per credit\n",
        "\n",
        "Write a program that prompts the user for a number of credits and determines and displays the tuition for the semester. As part of your program, define and use the following function:\n",
        "```python\n",
        "def calcTuition(credits)\n",
        "```\n",
        "The function returns the tuition for a given number of credits"
      ],
      "metadata": {
        "id": "gipBObe5qm-2"
      }
    },
    {
      "cell_type": "code",
      "source": [
        "def calcTuition():\n",
        "  credit = int(input('number of credits: '))\n",
        "  if credit >= 12:\n",
        "    print('$20000')\n",
        "  else:\n",
        "    credit = 1200 + 1700*credit\n",
        "    print(f'${credit}')\n",
        "calcTuition()"
      ],
      "metadata": {
        "id": "BPcn9ywzrL8y",
        "colab": {
          "base_uri": "https://localhost:8080/"
        },
        "outputId": "24306681-bcf9-4e5a-867a-d0902d65f548"
      },
      "execution_count": 16,
      "outputs": [
        {
          "output_type": "stream",
          "name": "stdout",
          "text": [
            "number of credits: 10\n",
            "$18200\n"
          ]
        }
      ]
    }
  ]
}