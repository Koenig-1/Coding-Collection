{
  "nbformat": 4,
  "nbformat_minor": 0,
  "metadata": {
    "colab": {
      "provenance": [],
      "authorship_tag": "ABX9TyN/enBceGfo2/S4nZfdI2UY",
      "include_colab_link": true
    },
    "kernelspec": {
      "name": "python3",
      "display_name": "Python 3"
    },
    "language_info": {
      "name": "python"
    }
  },
  "cells": [
    {
      "cell_type": "markdown",
      "metadata": {
        "id": "view-in-github",
        "colab_type": "text"
      },
      "source": [
        "<a href=\"https://colab.research.google.com/github/Koenig-1/Coding-Collection/blob/main/Quicksort_Algorithm.ipynb\" target=\"_parent\"><img src=\"https://colab.research.google.com/assets/colab-badge.svg\" alt=\"Open In Colab\"/></a>"
      ]
    },
    {
      "cell_type": "code",
      "execution_count": null,
      "metadata": {
        "id": "EyWBPsD-vD6D"
      },
      "outputs": [],
      "source": [
        "#sorting Algorithms\n",
        "  #Ascending\n",
        "def quicksort(alist):\n",
        "  if len(alist) < 2:\n",
        "    return alist\n",
        "  else:\n",
        "    less, equal, larger = [], [], []\n",
        "\n",
        "    pivotindex = len(alist) // 2\n",
        "\n",
        "    for item in alist:\n",
        "      if item < alist[pivotindex]:\n",
        "        less.append(item)\n",
        "      elif item == alist[pivotindex]:\n",
        "       equal.append(item)\n",
        "      else:\n",
        "       larger.append(item)\n",
        "\n",
        "    return quicksort(less) + equal + quicksort(larger)\n",
        "quicksort([10, 12, 5, 20, 7, 8])"
      ]
    }
  ]
}