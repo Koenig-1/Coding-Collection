{
  "nbformat": 4,
  "nbformat_minor": 0,
  "metadata": {
    "colab": {
      "provenance": [],
      "authorship_tag": "ABX9TyNmsed96V7mkdbuxXFl2mP9",
      "include_colab_link": true
    },
    "kernelspec": {
      "name": "python3",
      "display_name": "Python 3"
    },
    "language_info": {
      "name": "python"
    }
  },
  "cells": [
    {
      "cell_type": "markdown",
      "metadata": {
        "id": "view-in-github",
        "colab_type": "text"
      },
      "source": [
        "<a href=\"https://colab.research.google.com/github/Koenig-1/Coding-Collection/blob/main/MovieTheater.ipynb\" target=\"_parent\"><img src=\"https://colab.research.google.com/assets/colab-badge.svg\" alt=\"Open In Colab\"/></a>"
      ]
    },
    {
      "cell_type": "code",
      "execution_count": 1,
      "metadata": {
        "id": "vkqQ6tFiyOry",
        "outputId": "38dc7092-04a7-40b6-b82d-fe1a75a1fc04",
        "colab": {
          "base_uri": "https://localhost:8080/"
        }
      },
      "outputs": [
        {
          "output_type": "stream",
          "name": "stdout",
          "text": [
            "0 $0.0\n",
            "25 $75.0\n",
            "50 $90.0\n",
            "75 $105.0\n",
            "100 $100.0\n",
            "125 $95.0\n",
            "150 $90.0\n",
            "175 $85.0\n",
            "200 $80.0\n"
          ]
        }
      ],
      "source": [
        "#Movie Theaer\n",
        "init_attendees = 20\n",
        "fixed_cost = 200\n",
        "\n",
        "for advertising in range(0, 201, 25):\n",
        "  attendees = float(2*round(advertising**0.5) + init_attendees)\n",
        "  profit = float((attendees * 10) - advertising - fixed_cost)\n",
        "  print(f'{advertising} ${profit}')"
      ]
    }
  ]
}