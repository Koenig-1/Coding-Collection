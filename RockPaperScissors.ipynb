{
  "nbformat": 4,
  "nbformat_minor": 0,
  "metadata": {
    "colab": {
      "provenance": [],
      "authorship_tag": "ABX9TyMJE6l1YzoR9OI6PhNSSbVj",
      "include_colab_link": true
    },
    "kernelspec": {
      "name": "python3",
      "display_name": "Python 3"
    },
    "language_info": {
      "name": "python"
    }
  },
  "cells": [
    {
      "cell_type": "markdown",
      "metadata": {
        "id": "view-in-github",
        "colab_type": "text"
      },
      "source": [
        "<a href=\"https://colab.research.google.com/github/Koenig-1/Coding-Collection/blob/main/RockPaperScissors.ipynb\" target=\"_parent\"><img src=\"https://colab.research.google.com/assets/colab-badge.svg\" alt=\"Open In Colab\"/></a>"
      ]
    },
    {
      "cell_type": "code",
      "execution_count": null,
      "metadata": {
        "id": "_heo29tAwdK3"
      },
      "outputs": [],
      "source": [
        "from re import X\n",
        "import random\n",
        "userinput=input(\"yes/no:\")\n",
        "while userinput==\"yes\":\n",
        "  pc_choice = random.choice(['x','y','z'])\n",
        "  UserInput = input('enter either x, y, or z:')\n",
        "  if UserInput == pc_choice:\n",
        "    print(\"tie\")\n",
        "  elif UserInput == \"x\" and pc_choice == \"y\" or UserInput == \"y\" and pc_choice == \"z\" or UserInput == \"z\" and pc_choice == \"x\":\n",
        "    print(\"computer wins\")\n",
        "  else:\n",
        "    print(\"Player wins\")\n",
        "  print(UserInput)\n",
        "  print(pc_choice)\n",
        "  userinput=input(\"yes/no:\")"
      ]
    }
  ]
}