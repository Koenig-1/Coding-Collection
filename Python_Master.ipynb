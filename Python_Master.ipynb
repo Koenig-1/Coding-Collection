{
  "nbformat": 4,
  "nbformat_minor": 0,
  "metadata": {
    "colab": {
      "provenance": [],
      "toc_visible": true,
      "authorship_tag": "ABX9TyMauyczXBdjsaMpI2awabEW",
      "include_colab_link": true
    },
    "kernelspec": {
      "name": "python3",
      "display_name": "Python 3"
    },
    "language_info": {
      "name": "python"
    }
  },
  "cells": [
    {
      "cell_type": "markdown",
      "metadata": {
        "id": "view-in-github",
        "colab_type": "text"
      },
      "source": [
        "<a href=\"https://colab.research.google.com/github/Koenig-1/Coding-Collection/blob/main/Python_Master.ipynb\" target=\"_parent\"><img src=\"https://colab.research.google.com/assets/colab-badge.svg\" alt=\"Open In Colab\"/></a>"
      ]
    },
    {
      "cell_type": "code",
      "source": [
        "name = input('enter your name: ')\n",
        "print(name)\n",
        "\n",
        "userInput = float(input('enter a value: '))\n",
        "if userInput > 0:\n",
        "  print(f'{userInput} is positive')\n"
      ],
      "metadata": {
        "id": "Ds7dtHb5ShT7",
        "colab": {
          "base_uri": "https://localhost:8080/"
        },
        "outputId": "08e54417-d546-4436-b206-c28e493a0639"
      },
      "execution_count": null,
      "outputs": [
        {
          "output_type": "stream",
          "name": "stdout",
          "text": [
            "enter your name: john\n",
            "john\n",
            "enter a value: 5\n",
            "5.0 is positive\n"
          ]
        }
      ]
    },
    {
      "cell_type": "code",
      "source": [
        "userInput = float(input('enter a value: '))\n",
        "if userInput > 0:\n",
        "  print(f'{userInput} is positive')\n",
        "elif userInput == 0:\n",
        "  print(f'{userInput} is 0')\n",
        "elif userInput < 0:\n",
        "  print(f'{userInput} is negative')"
      ],
      "metadata": {
        "colab": {
          "base_uri": "https://localhost:8080/"
        },
        "id": "4JPWMAN_W_Ne",
        "outputId": "a68a6820-cdfc-421d-a1a6-8928720d3804"
      },
      "execution_count": null,
      "outputs": [
        {
          "output_type": "stream",
          "name": "stdout",
          "text": [
            "enter a value: -10\n",
            "-10.0 is negative\n"
          ]
        }
      ]
    },
    {
      "cell_type": "code",
      "source": [
        "Deposit = float(input('Enter Deposit value:'))\n",
        "if Deposit > 10000:\n",
        "  Total = (1+0.035)*Deposit\n",
        "  print(Total)\n",
        "elif 1000 < Deposit <= 10000:\n",
        "  Total = (1+0.0325)*Deposit\n",
        "  print(Total)\n",
        "elif Deposit <= 1000:\n",
        "  Total = (1+0.03)*Deposit\n",
        "  print(Total)"
      ],
      "metadata": {
        "colab": {
          "base_uri": "https://localhost:8080/"
        },
        "id": "m-xoPDKaXWVD",
        "outputId": "f32d1432-8550-48ae-8fc0-b67112733045"
      },
      "execution_count": null,
      "outputs": [
        {
          "output_type": "stream",
          "name": "stdout",
          "text": [
            "Enter Deposit value:1000\n",
            "1030.0\n"
          ]
        }
      ]
    },
    {
      "cell_type": "code",
      "source": [
        "from re import X\n",
        "import random\n",
        "userinput=input(\"yes/no:\")\n",
        "while userinput==\"yes\":\n",
        "  pc_choice = random.choice(['x','y','z'])\n",
        "  UserInput = input('enter either x, y, or z:')\n",
        "  if UserInput == pc_choice:\n",
        "    print(\"tie\")\n",
        "  elif UserInput == \"x\" and pc_choice == \"y\" or UserInput == \"y\" and pc_choice == \"z\" or UserInput == \"z\" and pc_choice == \"x\":\n",
        "    print(\"computer wins\")\n",
        "  else:\n",
        "    print(\"Player wins\")\n",
        "  print(UserInput)\n",
        "  print(pc_choice)\n",
        "  userinput=input(\"yes/no:\")\n",
        "\n",
        "\n"
      ],
      "metadata": {
        "colab": {
          "base_uri": "https://localhost:8080/"
        },
        "id": "HIyfBklGVV-Z",
        "outputId": "dc64fe21-fc90-4677-b2f5-8f71d7b15982"
      },
      "execution_count": null,
      "outputs": [
        {
          "name": "stdout",
          "output_type": "stream",
          "text": [
            "yes/no:yes\n",
            "enter either x, y, or z:y\n",
            "computer wins\n",
            "y\n",
            "z\n",
            "yes/no:yes\n",
            "enter either x, y, or z:z\n",
            "tie\n",
            "z\n",
            "z\n",
            "yes/no:no\n"
          ]
        }
      ]
    },
    {
      "cell_type": "code",
      "source": [
        "!pip install ColabTurtlePlus"
      ],
      "metadata": {
        "id": "neIeVL2_VWNp",
        "colab": {
          "base_uri": "https://localhost:8080/"
        },
        "outputId": "1d1e7ba2-2bd6-4d85-894d-ad148ea38aa1"
      },
      "execution_count": null,
      "outputs": [
        {
          "output_type": "stream",
          "name": "stdout",
          "text": [
            "Collecting ColabTurtlePlus\n",
            "  Downloading ColabTurtlePlus-2.0.1-py3-none-any.whl (31 kB)\n",
            "Installing collected packages: ColabTurtlePlus\n",
            "Successfully installed ColabTurtlePlus-2.0.1\n"
          ]
        }
      ]
    },
    {
      "cell_type": "code",
      "source": [
        "clearscreen()\n",
        "begin_fill()\n",
        "kumpto(0,0)\n",
        "\n",
        "for var in range(4):\n",
        "  forward(100)\n",
        "  left(90)\n",
        "\n",
        "end_fill()\n"
      ],
      "metadata": {
        "colab": {
          "base_uri": "https://localhost:8080/",
          "height": 242
        },
        "id": "LjyUGhClyFRZ",
        "outputId": "1dae9646-7e58-4c13-9bf0-dca18fe809bf"
      },
      "execution_count": null,
      "outputs": [
        {
          "output_type": "error",
          "ename": "NameError",
          "evalue": "name 'begin_fill' is not defined",
          "traceback": [
            "\u001b[0;31m---------------------------------------------------------------------------\u001b[0m",
            "\u001b[0;31mNameError\u001b[0m                                 Traceback (most recent call last)",
            "\u001b[0;32m<ipython-input-8-7f0f1b48e145>\u001b[0m in \u001b[0;36m<cell line: 1>\u001b[0;34m()\u001b[0m\n\u001b[0;32m----> 1\u001b[0;31m \u001b[0mbegin_fill\u001b[0m\u001b[0;34m(\u001b[0m\u001b[0;34m)\u001b[0m\u001b[0;34m\u001b[0m\u001b[0;34m\u001b[0m\u001b[0m\n\u001b[0m\u001b[1;32m      2\u001b[0m \u001b[0mkumpto\u001b[0m\u001b[0;34m(\u001b[0m\u001b[0;36m0\u001b[0m\u001b[0;34m,\u001b[0m\u001b[0;36m0\u001b[0m\u001b[0;34m)\u001b[0m\u001b[0;34m\u001b[0m\u001b[0;34m\u001b[0m\u001b[0m\n\u001b[1;32m      3\u001b[0m \u001b[0;34m\u001b[0m\u001b[0m\n\u001b[1;32m      4\u001b[0m \u001b[0;32mfor\u001b[0m \u001b[0mvar\u001b[0m \u001b[0;32min\u001b[0m \u001b[0mrange\u001b[0m\u001b[0;34m(\u001b[0m\u001b[0;36m4\u001b[0m\u001b[0;34m)\u001b[0m\u001b[0;34m:\u001b[0m\u001b[0;34m\u001b[0m\u001b[0;34m\u001b[0m\u001b[0m\n\u001b[1;32m      5\u001b[0m   \u001b[0mforward\u001b[0m\u001b[0;34m(\u001b[0m\u001b[0;36m100\u001b[0m\u001b[0;34m)\u001b[0m\u001b[0;34m\u001b[0m\u001b[0;34m\u001b[0m\u001b[0m\n",
            "\u001b[0;31mNameError\u001b[0m: name 'begin_fill' is not defined"
          ]
        }
      ]
    },
    {
      "cell_type": "code",
      "source": [
        "for i in range(5, 40, 10):\n",
        "  print(i)"
      ],
      "metadata": {
        "colab": {
          "base_uri": "https://localhost:8080/"
        },
        "id": "TUtM31Rz10RO",
        "outputId": "3c46607e-984b-4a81-8dec-e897a6adb224"
      },
      "execution_count": null,
      "outputs": [
        {
          "output_type": "stream",
          "name": "stdout",
          "text": [
            "5\n",
            "15\n",
            "25\n",
            "35\n"
          ]
        }
      ]
    },
    {
      "cell_type": "code",
      "source": [
        "for i in range(1, 9, 1):\n",
        "  x = 2.5 * i + 5\n",
        "  if x < 10:\n",
        "    x = 10\n",
        "  elif x > 20:\n",
        "    x = 20\n",
        "  print(i, x)"
      ],
      "metadata": {
        "id": "ywmfWfFxyHq6",
        "colab": {
          "base_uri": "https://localhost:8080/"
        },
        "outputId": "9559d390-abb1-45cb-ac90-24076d48b23f"
      },
      "execution_count": null,
      "outputs": [
        {
          "output_type": "stream",
          "name": "stdout",
          "text": [
            "1 10\n",
            "2 10.0\n",
            "3 12.5\n",
            "4 15.0\n",
            "5 17.5\n",
            "6 20.0\n",
            "7 20\n",
            "8 20\n"
          ]
        }
      ]
    },
    {
      "cell_type": "code",
      "source": [
        "i=1\n",
        "n=5\n",
        "while i < n:\n",
        "  print(i)\n",
        "  i = i + 1"
      ],
      "metadata": {
        "id": "XiWGFxwMIQdd",
        "colab": {
          "base_uri": "https://localhost:8080/"
        },
        "outputId": "c48f8de3-e33f-4bd1-dbcb-e295c13b58ff"
      },
      "execution_count": null,
      "outputs": [
        {
          "output_type": "stream",
          "name": "stdout",
          "text": [
            "1\n",
            "2\n",
            "3\n",
            "4\n"
          ]
        }
      ]
    },
    {
      "cell_type": "code",
      "source": [
        "from re import X\n",
        "import random\n",
        "userinput=input(\"yes/no:\")\n",
        "while userinput==\"yes\":\n",
        "  pc_choice = random.choice(['x','y','z'])\n",
        "  UserInput = input('enter either x, y, or z:')\n",
        "  if UserInput == pc_choice:\n",
        "    print(\"tie\")\n",
        "  elif UserInput == \"x\" and pc_choice == \"y\" or UserInput == \"y\" and pc_choice == \"z\" or UserInput == \"z\" and pc_choice == \"x\":\n",
        "    print(\"computer wins\")\n",
        "  else:\n",
        "    print(\"Player wins\")\n",
        "  print(UserInput)\n",
        "  print(pc_choice)\n",
        "  userinput=input(\"yes/no:\")\n"
      ],
      "metadata": {
        "colab": {
          "base_uri": "https://localhost:8080/"
        },
        "id": "GqN3xnjNZ0FC",
        "outputId": "720277a9-2f84-494f-e902-4ce55447ac10"
      },
      "execution_count": null,
      "outputs": [
        {
          "name": "stdout",
          "output_type": "stream",
          "text": [
            "yes/no:yes\n",
            "enter either x, y, or z:x\n",
            "Player wins\n",
            "x\n",
            "z\n",
            "yes/no:yes\n",
            "enter either x, y, or z:y\n",
            "Player wins\n",
            "y\n",
            "x\n",
            "yes/no:no\n"
          ]
        }
      ]
    },
    {
      "cell_type": "code",
      "source": [
        "loan=float(input(\"Principal:\"))\n",
        "interest=float(input(\"Rate:\"))\n",
        "userinput=float(input(\"Deposit:\"))\n",
        "z=x - y\n",
        "while z < loan:\n",
        "  y=0 + userinput\n",
        "  x=loan * interest\n",
        "  z=x - y\n",
        "\n",
        "\n"
      ],
      "metadata": {
        "colab": {
          "base_uri": "https://localhost:8080/",
          "height": 293
        },
        "id": "icAEeJedZ0LA",
        "outputId": "79585ccd-e959-4779-afbb-bb9ea0312301"
      },
      "execution_count": null,
      "outputs": [
        {
          "name": "stdout",
          "output_type": "stream",
          "text": [
            "Principal:1000\n",
            "Rate:1.01\n",
            "Deposit:100\n"
          ]
        },
        {
          "output_type": "error",
          "ename": "NameError",
          "evalue": "name 'x' is not defined",
          "traceback": [
            "\u001b[0;31m---------------------------------------------------------------------------\u001b[0m",
            "\u001b[0;31mNameError\u001b[0m                                 Traceback (most recent call last)",
            "\u001b[0;32m<ipython-input-13-aab4be5fa13b>\u001b[0m in \u001b[0;36m<cell line: 4>\u001b[0;34m()\u001b[0m\n\u001b[1;32m      2\u001b[0m \u001b[0minterest\u001b[0m\u001b[0;34m=\u001b[0m\u001b[0mfloat\u001b[0m\u001b[0;34m(\u001b[0m\u001b[0minput\u001b[0m\u001b[0;34m(\u001b[0m\u001b[0;34m\"Rate:\"\u001b[0m\u001b[0;34m)\u001b[0m\u001b[0;34m)\u001b[0m\u001b[0;34m\u001b[0m\u001b[0;34m\u001b[0m\u001b[0m\n\u001b[1;32m      3\u001b[0m \u001b[0muserinput\u001b[0m\u001b[0;34m=\u001b[0m\u001b[0mfloat\u001b[0m\u001b[0;34m(\u001b[0m\u001b[0minput\u001b[0m\u001b[0;34m(\u001b[0m\u001b[0;34m\"Deposit:\"\u001b[0m\u001b[0;34m)\u001b[0m\u001b[0;34m)\u001b[0m\u001b[0;34m\u001b[0m\u001b[0;34m\u001b[0m\u001b[0m\n\u001b[0;32m----> 4\u001b[0;31m \u001b[0mz\u001b[0m \u001b[0;34m=\u001b[0m\u001b[0mx\u001b[0m \u001b[0;34m-\u001b[0m \u001b[0my\u001b[0m\u001b[0;34m\u001b[0m\u001b[0;34m\u001b[0m\u001b[0m\n\u001b[0m\u001b[1;32m      5\u001b[0m \u001b[0;32mwhile\u001b[0m \u001b[0mz\u001b[0m \u001b[0;34m<\u001b[0m \u001b[0mloan\u001b[0m\u001b[0;34m:\u001b[0m\u001b[0;34m\u001b[0m\u001b[0;34m\u001b[0m\u001b[0m\n\u001b[1;32m      6\u001b[0m   \u001b[0my\u001b[0m\u001b[0;34m=\u001b[0m\u001b[0;36m0\u001b[0m \u001b[0;34m+\u001b[0m \u001b[0muserinput\u001b[0m\u001b[0;34m\u001b[0m\u001b[0;34m\u001b[0m\u001b[0m\n",
            "\u001b[0;31mNameError\u001b[0m: name 'x' is not defined"
          ]
        }
      ]
    }
  ]
}