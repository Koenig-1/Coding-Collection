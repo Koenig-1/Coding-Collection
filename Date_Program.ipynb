{
  "nbformat": 4,
  "nbformat_minor": 0,
  "metadata": {
    "colab": {
      "provenance": [],
      "authorship_tag": "ABX9TyMFtvpiBWGPNdvyDxZSYia3",
      "include_colab_link": true
    },
    "kernelspec": {
      "name": "python3",
      "display_name": "Python 3"
    },
    "language_info": {
      "name": "python"
    }
  },
  "cells": [
    {
      "cell_type": "markdown",
      "metadata": {
        "id": "view-in-github",
        "colab_type": "text"
      },
      "source": [
        "<a href=\"https://colab.research.google.com/github/Koenig-1/Coding-Collection/blob/main/Date_Program.ipynb\" target=\"_parent\"><img src=\"https://colab.research.google.com/assets/colab-badge.svg\" alt=\"Open In Colab\"/></a>"
      ]
    },
    {
      "cell_type": "code",
      "execution_count": null,
      "metadata": {
        "id": "ymIvja8_vmAD"
      },
      "outputs": [],
      "source": [
        "s = input(\"Date(MM/DD/YYYY):\")\n",
        "a = s[0:2]\n",
        "b = s[3:5]\n",
        "c = s[6:]\n",
        "print(a,b,c)\n"
      ]
    },
    {
      "cell_type": "code",
      "source": [
        "months = {}\n",
        "numbers = [1,2,3,4,5,6,7,8,9,10,11,12]\n",
        "names = [\"Jan\", \"Feb\", \"Mar\", \"Apr\", \"May\", \"Jun\", \"Jul\", \"Aug\", \"Sep\", \"Oct\", \"Nov\", \"Dec\"]\n",
        "for index in range(len(numbers)):\n",
        "  x = numbers[index]\n",
        "  y = names[index]\n",
        "  months[x] = y\n",
        "print(months)"
      ],
      "metadata": {
        "id": "1fviofQZv8Nb"
      },
      "execution_count": null,
      "outputs": []
    }
  ]
}