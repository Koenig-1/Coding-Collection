{
  "nbformat": 4,
  "nbformat_minor": 0,
  "metadata": {
    "colab": {
      "provenance": [],
      "authorship_tag": "ABX9TyOLoRt77Qvf5MckuC5wBgKE",
      "include_colab_link": true
    },
    "kernelspec": {
      "name": "python3",
      "display_name": "Python 3"
    },
    "language_info": {
      "name": "python"
    }
  },
  "cells": [
    {
      "cell_type": "markdown",
      "metadata": {
        "id": "view-in-github",
        "colab_type": "text"
      },
      "source": [
        "<a href=\"https://colab.research.google.com/github/Koenig-1/Coding-Collection/blob/main/Classes.ipynb\" target=\"_parent\"><img src=\"https://colab.research.google.com/assets/colab-badge.svg\" alt=\"Open In Colab\"/></a>"
      ]
    },
    {
      "cell_type": "code",
      "execution_count": null,
      "metadata": {
        "id": "x7hdTsyDqikc"
      },
      "outputs": [],
      "source": [
        "class Mortgage:\n",
        "  def __init__(self, initial_loan, maturity, fixed_rate_annual):\n",
        "    self.__initial_loan = initial_loan\n",
        "    self.__maturity = maturity\n",
        "    self.__fixed_rate_annual = fixed_rate_annual\n",
        "\n",
        "  def get_interest(self):\n",
        "    return self.__fixed_rate_annual\n",
        "\n",
        "  def set_interest(self, newInterest):\n",
        "    if newInterest >= 0:\n",
        "      self.__fixed_rate_annual = newInterest\n",
        "    else:\n",
        "      print('interest must be positive')\n",
        "\n",
        "  def monthly_payment(self):\n",
        "    B = self.__initial_loan\n",
        "    n = self.__maturity * 12\n",
        "    r = self.__fixed_rate_annual\n",
        "\n",
        "    return B * (r *(1 + r) ** n) / ((1 + r) ** n-1)\n",
        "  def __str__(self):\n",
        "    return f'Mortage Info:\\n Loan: {self.__initial_loan}$\\n Time to maturity: {self.__maturity}\\n Annual Rate: {self.__fixed_rate_annual}'"
      ]
    },
    {
      "cell_type": "code",
      "source": [
        "m = Mortgage(100000, 30, .06)"
      ],
      "metadata": {
        "id": "ZF5QLilorb4d"
      },
      "execution_count": null,
      "outputs": []
    },
    {
      "cell_type": "code",
      "source": [
        "m.set_interest(.03)"
      ],
      "metadata": {
        "id": "fbqPCAOfr5nX"
      },
      "execution_count": null,
      "outputs": []
    },
    {
      "cell_type": "code",
      "source": [
        "m.get_interest()"
      ],
      "metadata": {
        "colab": {
          "base_uri": "https://localhost:8080/"
        },
        "id": "wyWYBO5mwXDH",
        "outputId": "d9a59e27-aa9f-4eec-b45e-76d96f36b82e"
      },
      "execution_count": null,
      "outputs": [
        {
          "output_type": "execute_result",
          "data": {
            "text/plain": [
              "0.03"
            ]
          },
          "metadata": {},
          "execution_count": 4
        }
      ]
    },
    {
      "cell_type": "code",
      "source": [
        "print(m)"
      ],
      "metadata": {
        "colab": {
          "base_uri": "https://localhost:8080/"
        },
        "id": "c-kMKRukG5nO",
        "outputId": "c6c2d2a4-e33b-45e4-84d0-6e988cad1017"
      },
      "execution_count": null,
      "outputs": [
        {
          "output_type": "stream",
          "name": "stdout",
          "text": [
            "Mortage Info:\n",
            " Loan: 100000$\n",
            " Time to maturity: 30\n",
            " Annual Rate: 0.06\n"
          ]
        }
      ]
    },
    {
      "cell_type": "code",
      "source": [
        "class Point:\n",
        "  def __init__(self, x, y):\n",
        "    self.x = x\n",
        "    self.y = y\n",
        "  def distance(self, other):\n",
        "    n1 = self.x - other.x\n",
        "    n2 = self.y - other.y\n",
        "    return ((n1**2) + (n2**2))**0.5\n",
        "class Point3D(Point):\n",
        "  def __init__(self, x, y, z):\n",
        "    super().__init__(x, y)\n",
        "    self.z = z\n",
        "  def distance(self, other):\n",
        "    n1 = self.x - other.x\n",
        "    n2 = self.y - other.y\n",
        "    n3 = self.z - other.z\n",
        "    return ((n1**2) + (n2**2) + (n3**2))**0.5"
      ],
      "metadata": {
        "id": "1eLB5MchqTfo"
      },
      "execution_count": null,
      "outputs": []
    },
    {
      "cell_type": "code",
      "source": [
        "point1 = Point(10, 2)\n",
        "point2 = Point(4, 20)\n",
        "point3D_1 = Point3D(10, 10, 12)\n",
        "point3D_2 = Point3D(12, 13, 20)\n",
        "point3D_1.distance(point3D_2)"
      ],
      "metadata": {
        "id": "DEzRWRXXqaii"
      },
      "execution_count": null,
      "outputs": []
    },
    {
      "cell_type": "code",
      "source": [
        "class Animal:\n",
        "  def __init__(self, legs):\n",
        "    self.legs = legs\n",
        "    print('Animal Created')\n",
        "  def WhoAmI(self):\n",
        "    print('I am an animal')\n",
        "class Bird(Animal):\n",
        "  def __init__(self, wings, legs):\n",
        "    super().__init__(legs)\n",
        "    self.wings = wings\n",
        "    print('Bird created')\n",
        "  def fly(self):\n",
        "    print('Birds can fly')\n",
        "a = Animal(4)\n",
        "b = Bird(2, 2)\n",
        "b.fly()"
      ],
      "metadata": {
        "id": "SX863kcmqXIE"
      },
      "execution_count": null,
      "outputs": []
    }
  ]
}