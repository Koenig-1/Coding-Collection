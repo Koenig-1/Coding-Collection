{
  "nbformat": 4,
  "nbformat_minor": 0,
  "metadata": {
    "colab": {
      "provenance": [],
      "authorship_tag": "ABX9TyNqsNlvg1jMADRZUHODMXdq",
      "include_colab_link": true
    },
    "kernelspec": {
      "name": "python3",
      "display_name": "Python 3"
    },
    "language_info": {
      "name": "python"
    }
  },
  "cells": [
    {
      "cell_type": "markdown",
      "metadata": {
        "id": "view-in-github",
        "colab_type": "text"
      },
      "source": [
        "<a href=\"https://colab.research.google.com/github/Koenig-1/Coding-Collection/blob/main/Comparing_2_Strings.ipynb\" target=\"_parent\"><img src=\"https://colab.research.google.com/assets/colab-badge.svg\" alt=\"Open In Colab\"/></a>"
      ]
    },
    {
      "cell_type": "code",
      "execution_count": 1,
      "metadata": {
        "colab": {
          "base_uri": "https://localhost:8080/"
        },
        "id": "896zU8eDmwfl",
        "outputId": "0c14577c-906a-4f18-cdc5-24cec8e3c1b3"
      },
      "outputs": [
        {
          "output_type": "stream",
          "name": "stdout",
          "text": [
            "a\n",
            "b\n",
            "d\n"
          ]
        }
      ],
      "source": [
        "s1 = 'abcdef'\n",
        "s2 = 'abdght'\n",
        "for char in s1:\n",
        "  for char2 in s2:\n",
        "    if char == char2:\n",
        "      print(char)"
      ]
    },
    {
      "cell_type": "code",
      "source": [
        "s1 = 'abcdef'\n",
        "s2 = 'abdght'\n",
        "for index in range(len(s1)):\n",
        "  x = s1[index]\n",
        "  for index in range(len(s2)):\n",
        "    y = s2[index]\n",
        "    if x == y:\n",
        "      print(x)"
      ],
      "metadata": {
        "id": "AuFWbigam4PI",
        "outputId": "7a151733-c5a7-420f-bb27-2bdbd21cc6f7",
        "colab": {
          "base_uri": "https://localhost:8080/"
        }
      },
      "execution_count": 2,
      "outputs": [
        {
          "output_type": "stream",
          "name": "stdout",
          "text": [
            "a\n",
            "b\n",
            "d\n"
          ]
        }
      ]
    }
  ]
}